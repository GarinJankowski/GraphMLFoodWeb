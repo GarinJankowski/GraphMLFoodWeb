{
 "cells": [
  {
   "attachments": {},
   "cell_type": "markdown",
   "metadata": {},
   "source": [
    "Garin Jankowski\n",
    "\n",
    "# Link Prediction on a Kelp Forest Food Web"
   ]
  },
  {
   "cell_type": "code",
   "execution_count": 1,
   "metadata": {},
   "outputs": [],
   "source": [
    "import pandas as pd\n",
    "import torch\n",
    "import torch_geometric\n",
    "import torch_geometric.transforms as T\n",
    "import torch.nn.functional as F\n",
    "from torch_geometric.data import Data\n",
    "from torch_geometric.loader import DataLoader\n",
    "from torch_geometric.utils import negative_sampling\n",
    "from torch_geometric.nn import SAGEConv, Linear"
   ]
  },
  {
   "cell_type": "markdown",
   "metadata": {},
   "source": [
    "## Retrieving the Data"
   ]
  },
  {
   "cell_type": "code",
   "execution_count": 2,
   "metadata": {},
   "outputs": [],
   "source": [
    "nodes = pd.read_csv('../foodwebdata/1_Nodes.csv')\n",
    "edges = pd.read_csv('../foodwebdata/2_Links.csv')"
   ]
  },
  {
   "cell_type": "code",
   "execution_count": 3,
   "metadata": {},
   "outputs": [
    {
     "data": {
      "text/html": [
       "<div>\n",
       "<style scoped>\n",
       "    .dataframe tbody tr th:only-of-type {\n",
       "        vertical-align: middle;\n",
       "    }\n",
       "\n",
       "    .dataframe tbody tr th {\n",
       "        vertical-align: top;\n",
       "    }\n",
       "\n",
       "    .dataframe thead th {\n",
       "        text-align: right;\n",
       "    }\n",
       "</style>\n",
       "<table border=\"1\" class=\"dataframe\">\n",
       "  <thead>\n",
       "    <tr style=\"text-align: right;\">\n",
       "      <th></th>\n",
       "      <th>stageID</th>\n",
       "      <th>Stage</th>\n",
       "      <th>Phylum</th>\n",
       "      <th>Class</th>\n",
       "      <th>Order</th>\n",
       "      <th>Family</th>\n",
       "      <th>Genus</th>\n",
       "      <th>Habitat_Site</th>\n",
       "      <th>Consumer.Strategy</th>\n",
       "      <th>Consumer.Type</th>\n",
       "      <th>Mobility</th>\n",
       "      <th>Life.Cycle</th>\n",
       "    </tr>\n",
       "  </thead>\n",
       "  <tbody>\n",
       "    <tr>\n",
       "      <th>0</th>\n",
       "      <td>1</td>\n",
       "      <td>Adult</td>\n",
       "      <td>Echinodermata</td>\n",
       "      <td>Asteroidea</td>\n",
       "      <td>Valvatida</td>\n",
       "      <td>Asteropseidae</td>\n",
       "      <td>Dermasterias</td>\n",
       "      <td>rock</td>\n",
       "      <td>Predator</td>\n",
       "      <td>Predator</td>\n",
       "      <td>Mobile</td>\n",
       "      <td>1</td>\n",
       "    </tr>\n",
       "    <tr>\n",
       "      <th>1</th>\n",
       "      <td>1</td>\n",
       "      <td>Adult</td>\n",
       "      <td>Echinodermata</td>\n",
       "      <td>Asteroidea</td>\n",
       "      <td>Forcipulatida</td>\n",
       "      <td>Asteriidae</td>\n",
       "      <td>Orthasterias</td>\n",
       "      <td>rock</td>\n",
       "      <td>Predator</td>\n",
       "      <td>Predator</td>\n",
       "      <td>Mobile</td>\n",
       "      <td>1</td>\n",
       "    </tr>\n",
       "    <tr>\n",
       "      <th>2</th>\n",
       "      <td>1</td>\n",
       "      <td>Adult</td>\n",
       "      <td>Echinodermata</td>\n",
       "      <td>Asteroidea</td>\n",
       "      <td>Valvatida</td>\n",
       "      <td>Asterinidae</td>\n",
       "      <td>Patiria</td>\n",
       "      <td>rock</td>\n",
       "      <td>Omnivore</td>\n",
       "      <td>Predator</td>\n",
       "      <td>Mobile</td>\n",
       "      <td>1</td>\n",
       "    </tr>\n",
       "    <tr>\n",
       "      <th>3</th>\n",
       "      <td>1</td>\n",
       "      <td>Adult</td>\n",
       "      <td>Echinodermata</td>\n",
       "      <td>Asteroidea</td>\n",
       "      <td>Forcipulatida</td>\n",
       "      <td>Asteriidae</td>\n",
       "      <td>Pisaster</td>\n",
       "      <td>rock</td>\n",
       "      <td>Predator</td>\n",
       "      <td>Predator</td>\n",
       "      <td>Mobile</td>\n",
       "      <td>1</td>\n",
       "    </tr>\n",
       "    <tr>\n",
       "      <th>4</th>\n",
       "      <td>1</td>\n",
       "      <td>Adult</td>\n",
       "      <td>Echinodermata</td>\n",
       "      <td>Asteroidea</td>\n",
       "      <td>Forcipulatida</td>\n",
       "      <td>Asteriidae</td>\n",
       "      <td>Pisaster</td>\n",
       "      <td>rock</td>\n",
       "      <td>Predator</td>\n",
       "      <td>Predator</td>\n",
       "      <td>Mobile</td>\n",
       "      <td>1</td>\n",
       "    </tr>\n",
       "  </tbody>\n",
       "</table>\n",
       "</div>"
      ],
      "text/plain": [
       "   stageID  Stage         Phylum       Class          Order         Family  \\\n",
       "0        1  Adult  Echinodermata  Asteroidea      Valvatida  Asteropseidae   \n",
       "1        1  Adult  Echinodermata  Asteroidea  Forcipulatida     Asteriidae   \n",
       "2        1  Adult  Echinodermata  Asteroidea      Valvatida    Asterinidae   \n",
       "3        1  Adult  Echinodermata  Asteroidea  Forcipulatida     Asteriidae   \n",
       "4        1  Adult  Echinodermata  Asteroidea  Forcipulatida     Asteriidae   \n",
       "\n",
       "          Genus Habitat_Site Consumer.Strategy Consumer.Type Mobility  \\\n",
       "0  Dermasterias         rock          Predator      Predator   Mobile   \n",
       "1  Orthasterias         rock          Predator      Predator   Mobile   \n",
       "2       Patiria         rock          Omnivore      Predator   Mobile   \n",
       "3      Pisaster         rock          Predator      Predator   Mobile   \n",
       "4      Pisaster         rock          Predator      Predator   Mobile   \n",
       "\n",
       "   Life.Cycle  \n",
       "0           1  \n",
       "1           1  \n",
       "2           1  \n",
       "3           1  \n",
       "4           1  "
      ]
     },
     "execution_count": 3,
     "metadata": {},
     "output_type": "execute_result"
    }
   ],
   "source": [
    "# create a map between the df index and NodeIDs so that there are no skipped numbers in the IDs\n",
    "nodes_id_map = pd.Series(nodes.index,index=nodes['Node.ID']).to_dict()\n",
    "# choose the node features being used\n",
    "nodes = nodes[['stageID', 'Stage', 'Phylum', 'Class', 'Order', 'Family', 'Genus', 'Habitat_Site', 'Consumer.Strategy', 'Consumer.Type', 'Mobility', 'Life.Cycle']]\n",
    "nodes.head()"
   ]
  },
  {
   "cell_type": "code",
   "execution_count": 4,
   "metadata": {},
   "outputs": [
    {
     "data": {
      "text/html": [
       "<div>\n",
       "<style scoped>\n",
       "    .dataframe tbody tr th:only-of-type {\n",
       "        vertical-align: middle;\n",
       "    }\n",
       "\n",
       "    .dataframe tbody tr th {\n",
       "        vertical-align: top;\n",
       "    }\n",
       "\n",
       "    .dataframe thead th {\n",
       "        text-align: right;\n",
       "    }\n",
       "</style>\n",
       "<table border=\"1\" class=\"dataframe\">\n",
       "  <thead>\n",
       "    <tr style=\"text-align: right;\">\n",
       "      <th></th>\n",
       "      <th>consumers</th>\n",
       "      <th>resources</th>\n",
       "      <th>Consumer.Interaction.Code</th>\n",
       "      <th>Feeding.Site</th>\n",
       "    </tr>\n",
       "  </thead>\n",
       "  <tbody>\n",
       "    <tr>\n",
       "      <th>0</th>\n",
       "      <td>6</td>\n",
       "      <td>0</td>\n",
       "      <td>1</td>\n",
       "      <td>3.0</td>\n",
       "    </tr>\n",
       "    <tr>\n",
       "      <th>1</th>\n",
       "      <td>6</td>\n",
       "      <td>1</td>\n",
       "      <td>1</td>\n",
       "      <td>3.0</td>\n",
       "    </tr>\n",
       "    <tr>\n",
       "      <th>2</th>\n",
       "      <td>6</td>\n",
       "      <td>2</td>\n",
       "      <td>1</td>\n",
       "      <td>3.0</td>\n",
       "    </tr>\n",
       "    <tr>\n",
       "      <th>3</th>\n",
       "      <td>461</td>\n",
       "      <td>2</td>\n",
       "      <td>1</td>\n",
       "      <td>3.0</td>\n",
       "    </tr>\n",
       "    <tr>\n",
       "      <th>4</th>\n",
       "      <td>6</td>\n",
       "      <td>3</td>\n",
       "      <td>1</td>\n",
       "      <td>3.0</td>\n",
       "    </tr>\n",
       "  </tbody>\n",
       "</table>\n",
       "</div>"
      ],
      "text/plain": [
       "   consumers  resources  Consumer.Interaction.Code  Feeding.Site\n",
       "0          6          0                          1           3.0\n",
       "1          6          1                          1           3.0\n",
       "2          6          2                          1           3.0\n",
       "3        461          2                          1           3.0\n",
       "4          6          3                          1           3.0"
      ]
     },
     "execution_count": 4,
     "metadata": {},
     "output_type": "execute_result"
    }
   ],
   "source": [
    "# choose the edge features being used\n",
    "edges = edges[['consumers', 'resources', 'Consumer.Interaction.Code', 'Feeding.Site']]\n",
    "# change the NodeIDs to the new ones using the mapping\n",
    "edges = edges.replace({'consumers': nodes_id_map})\n",
    "edges = edges.replace({'resources': nodes_id_map})\n",
    "edges.head()"
   ]
  },
  {
   "cell_type": "code",
   "execution_count": 5,
   "metadata": {},
   "outputs": [],
   "source": [
    "# transform the features into categorial features and one-hot encode them\n",
    "nodes = nodes.astype('category')\n",
    "nodes_dummies = pd.get_dummies(nodes)\n",
    "\n",
    "edge_cats = ['Consumer.Interaction.Code', 'Feeding.Site']\n",
    "edges[edge_cats] = edges[edge_cats].astype('category')\n",
    "edges_dummies = pd.get_dummies(edges)"
   ]
  },
  {
   "cell_type": "code",
   "execution_count": 6,
   "metadata": {},
   "outputs": [
    {
     "name": "stdout",
     "output_type": "stream",
     "text": [
      "<class 'pandas.core.frame.DataFrame'>\n",
      "RangeIndex: 1098 entries, 0 to 1097\n",
      "Columns: 1502 entries, stageID_0 to Life.Cycle_7\n",
      "dtypes: uint8(1502)\n",
      "memory usage: 1.6 MB\n",
      "None\n",
      "<class 'pandas.core.frame.DataFrame'>\n",
      "RangeIndex: 21956 entries, 0 to 21955\n",
      "Data columns (total 13 columns):\n",
      " #   Column                        Non-Null Count  Dtype\n",
      "---  ------                        --------------  -----\n",
      " 0   consumers                     21956 non-null  int64\n",
      " 1   resources                     21956 non-null  int64\n",
      " 2   Consumer.Interaction.Code_1   21956 non-null  uint8\n",
      " 3   Consumer.Interaction.Code_3   21956 non-null  uint8\n",
      " 4   Consumer.Interaction.Code_4   21956 non-null  uint8\n",
      " 5   Consumer.Interaction.Code_5   21956 non-null  uint8\n",
      " 6   Consumer.Interaction.Code_6   21956 non-null  uint8\n",
      " 7   Consumer.Interaction.Code_12  21956 non-null  uint8\n",
      " 8   Consumer.Interaction.Code_14  21956 non-null  uint8\n",
      " 9   Consumer.Interaction.Code_20  21956 non-null  uint8\n",
      " 10  Feeding.Site_1.0              21956 non-null  uint8\n",
      " 11  Feeding.Site_2.0              21956 non-null  uint8\n",
      " 12  Feeding.Site_3.0              21956 non-null  uint8\n",
      "dtypes: int64(2), uint8(11)\n",
      "memory usage: 579.0 KB\n",
      "None\n"
     ]
    }
   ],
   "source": [
    "print(nodes_dummies.info())\n",
    "print(edges_dummies.info())"
   ]
  },
  {
   "cell_type": "markdown",
   "metadata": {},
   "source": [
    "## Prepare the Data Object"
   ]
  },
  {
   "cell_type": "code",
   "execution_count": 7,
   "metadata": {},
   "outputs": [],
   "source": [
    "x = torch.tensor(nodes_dummies.values)\n",
    "edge_index = torch.tensor(edges_dummies[['consumers', 'resources']].values).T\n",
    "edge_attr = torch.tensor(edges_dummies.drop(['consumers', 'resources'], axis=1).values)"
   ]
  },
  {
   "cell_type": "code",
   "execution_count": 8,
   "metadata": {},
   "outputs": [
    {
     "data": {
      "text/plain": [
       "Data(x=[1098, 1502], edge_index=[2, 21956], edge_attr=[21956, 11])"
      ]
     },
     "execution_count": 8,
     "metadata": {},
     "output_type": "execute_result"
    }
   ],
   "source": [
    "data = Data(x=x, edge_index=edge_index, edge_attr=edge_attr)\n",
    "data"
   ]
  },
  {
   "cell_type": "code",
   "execution_count": 9,
   "metadata": {},
   "outputs": [
    {
     "name": "stdout",
     "output_type": "stream",
     "text": [
      "Data(x=[1098, 1502], edge_index=[2, 10759], edge_attr=[10759, 11], edge_label=[4611], edge_label_index=[2, 4611])\n",
      "Data(x=[1098, 1502], edge_index=[2, 15370], edge_attr=[15370, 11], edge_label=[4390], edge_label_index=[2, 4390])\n",
      "Data(x=[1098, 1502], edge_index=[2, 17565], edge_attr=[17565, 11], edge_label=[8782], edge_label_index=[2, 8782])\n"
     ]
    }
   ],
   "source": [
    "# split the data into training, validation, and testing sets\n",
    "transform = T.RandomLinkSplit(\n",
    "    num_val=0.1,\n",
    "    num_test=0.2,\n",
    "    disjoint_train_ratio=0.3,\n",
    "    # neg_sampling_ratio=2,\n",
    "    add_negative_train_samples=False,\n",
    ")\n",
    "\n",
    "train_data, val_data, test_data = transform(data)\n",
    "print(train_data)\n",
    "print(val_data)\n",
    "print(test_data)"
   ]
  },
  {
   "attachments": {},
   "cell_type": "markdown",
   "metadata": {},
   "source": [
    "## Create GNN to Learn Node Embeddings and MLP to Predict Edges"
   ]
  },
  {
   "cell_type": "code",
   "execution_count": 10,
   "metadata": {},
   "outputs": [],
   "source": [
    "class GNN(torch.nn.Module):\n",
    "    def __init__(self):\n",
    "        super(GNN, self).__init__()\n",
    "        self.conv1 = SAGEConv(-1, 64)\n",
    "        self.conv2 = SAGEConv(64, 32)\n",
    "        self.conv3 = SAGEConv(32, 32)\n",
    "        self.linear = Linear(32, 8)\n",
    "    \n",
    "    def forward(self, x, edge_index):\n",
    "        x = self.conv1(x, edge_index)\n",
    "        x = F.relu(x)\n",
    "        x = self.conv2(x, edge_index)\n",
    "        x = F.relu(x)\n",
    "        x = self.conv3(x, edge_index)\n",
    "        x = F.relu(x)\n",
    "        x = self.linear(x)\n",
    "        return x\n",
    "\n",
    "    def loss(self, pred, label):\n",
    "        return F.nll_loss(pred, label)\n",
    "\n",
    "class LinkPrediction(torch.nn.Module):\n",
    "    def __init__(self):\n",
    "        super(LinkPrediction, self).__init__()\n",
    "\n",
    "        self.linear1 = Linear(8, 50)\n",
    "        self.linear2 = Linear(50, 10)\n",
    "        self.linear3 = Linear(10, 1)\n",
    "    \n",
    "    def reset_parameters(self):\n",
    "        self.linear1.reset_parameters()\n",
    "        self.linear2.reset_parameters()\n",
    "        self.linear3.reset_parameters()\n",
    "    \n",
    "    def forward(self, x_i, x_j):\n",
    "        x = x_i * x_j\n",
    "        x = self.linear1(x)\n",
    "        x = F.relu(x)\n",
    "        x = self.linear2(x)\n",
    "        x = F.relu(x)\n",
    "        x = self.linear3(x)\n",
    "        return torch.sigmoid(x)"
   ]
  },
  {
   "attachments": {},
   "cell_type": "markdown",
   "metadata": {},
   "source": [
    "## Train Models on Data"
   ]
  },
  {
   "cell_type": "code",
   "execution_count": 11,
   "metadata": {},
   "outputs": [
    {
     "name": "stdout",
     "output_type": "stream",
     "text": [
      "Epoch 0\tValidation Loss: 1.404681921005249\n",
      "Epoch 25\tValidation Loss: 1.1847882270812988\n",
      "Epoch 50\tValidation Loss: 0.8272663354873657\n",
      "Epoch 75\tValidation Loss: 0.6616246700286865\n",
      "Finished\tValidation Loss: 0.6270456910133362\n"
     ]
    }
   ],
   "source": [
    "\n",
    "# initialize embeddings and models\n",
    "embedding = torch.nn.Embedding(data.num_nodes, data.num_node_features)\n",
    "model = GNN()\n",
    "predictor = LinkPrediction()\n",
    "\n",
    "# define optimizer\n",
    "optimizer = torch.optim.Adam(\n",
    "    list(model.parameters()) + list(predictor.parameters()) + list(embedding.parameters()),\n",
    "    lr=5e-4\n",
    ")\n",
    "\n",
    "# prepare DataLoaders\n",
    "train_loader = DataLoader([train_data], 64, shuffle=True)\n",
    "test_loader = DataLoader([test_data], 64, shuffle=True)\n",
    "\n",
    "# define loss\n",
    "def loss_fn(pos_pred, neg_pred):\n",
    "    return -torch.log(pos_pred + 1e-15).mean() - torch.log(1 - neg_pred + 1e-15).mean()\n",
    "\n",
    "def train(data):\n",
    "    model.train()\n",
    "    predictor.train()\n",
    "\n",
    "    for batch in train_loader:\n",
    "        optimizer.zero_grad()\n",
    "        emb = model(embedding.weight, data.edge_index)\n",
    "\n",
    "        # evaluate positive edges (the existing edges)\n",
    "        pos_edge = batch.edge_index\n",
    "        pos_pred = predictor(emb[pos_edge[0]], emb[pos_edge[1]])\n",
    "\n",
    "        # evaluate negativ edges (create nonexistent edges to evaluate on)\n",
    "        neg_edge = negative_sampling(data.edge_index, num_nodes=emb.shape[0],\n",
    "                                     num_neg_samples=pos_edge.size()[1], method='dense')\n",
    "        neg_pred = predictor(emb[neg_edge[0]], emb[neg_edge[1]])\n",
    "\n",
    "        loss = loss_fn(pos_pred, neg_pred)\n",
    "        loss.backward()\n",
    "        optimizer.step()\n",
    "    \n",
    "    # validate\n",
    "    loss, _, _, _ = test(val_data)\n",
    "    return loss\n",
    "\n",
    "def test(data):\n",
    "    model.eval()\n",
    "    predictor.eval()\n",
    "\n",
    "    emb = model(embedding.weight, data.edge_index)\n",
    "\n",
    "    # go through the positive and negative data\n",
    "    pos_edge = data.edge_index\n",
    "    pos_pred = predictor(emb[pos_edge[0]], emb[pos_edge[1]])\n",
    "\n",
    "    neg_edge = negative_sampling(data.edge_index, num_nodes=emb.shape[0],\n",
    "                                    num_neg_samples=pos_edge.size()[1], method='dense')\n",
    "    neg_pred = predictor(emb[neg_edge[0]], emb[neg_edge[1]])\n",
    "\n",
    "    # compute metrics\n",
    "    loss = loss_fn(pos_pred, neg_pred)\n",
    "    pos_correct = torch.sum(torch.round(pos_pred))\n",
    "    neg_correct = torch.sum(torch.ones(neg_pred.size()) - torch.round(neg_pred))\n",
    "    acc = (pos_correct + neg_correct)/(pos_pred.size()[0]+neg_pred.size()[0])\n",
    "    prec = pos_correct/(pos_correct+(neg_pred.size()[0]-neg_correct))\n",
    "    recall = pos_correct/pos_pred.size()[0]\n",
    "\n",
    "    return loss, acc, prec, recall\n",
    "\n",
    "\n",
    "# train over 100 epochs\n",
    "losses = []\n",
    "for epoch in range(100):\n",
    "    loss = train(data)\n",
    "    losses.append(loss)\n",
    "    if epoch % 25 == 0:\n",
    "        print(f'Epoch {epoch}\\tValidation Loss: {loss}')\n",
    "print(f'Finished\\tValidation Loss: {loss}')"
   ]
  },
  {
   "attachments": {},
   "cell_type": "markdown",
   "metadata": {},
   "source": [
    "## Test on Testing Set"
   ]
  },
  {
   "cell_type": "code",
   "execution_count": 12,
   "metadata": {},
   "outputs": [
    {
     "name": "stdout",
     "output_type": "stream",
     "text": [
      "Accuracy: 0.8816680908203125\n",
      "Precision: 0.8507009744644165\n",
      "Recall: 0.9258183836936951\n"
     ]
    }
   ],
   "source": [
    "loss, acc, prec, recall = test(test_data)\n",
    "print(f'Accuracy: {acc}')\n",
    "print(f'Precision: {prec}')\n",
    "print(f'Recall: {recall}')"
   ]
  },
  {
   "cell_type": "code",
   "execution_count": 13,
   "metadata": {},
   "outputs": [
    {
     "data": {
      "image/png": "[encoded data removed]",
      "text/plain": [
       "<Figure size 432x288 with 1 Axes>"
      ]
     },
     "metadata": {
      "needs_background": "light"
     },
     "output_type": "display_data"
    }
   ],
   "source": [
    "import matplotlib.pyplot as plt\n",
    "\n",
    "with torch.no_grad():\n",
    "    plt.ylabel(\"Loss\")\n",
    "    plt.xlabel(\"Epochs\")\n",
    "    plt.plot([i for i in range(len(losses))], losses)"
   ]
  },
  {
   "cell_type": "code",
   "execution_count": null,
   "metadata": {},
   "outputs": [],
   "source": []
  }
 ],
 "metadata": {
  "kernelspec": {
   "display_name": "Python 3",
   "language": "python",
   "name": "python3"
  },
  "language_info": {
   "codemirror_mode": {
    "name": "ipython",
    "version": 3
   },
   "file_extension": ".py",
   "mimetype": "text/x-python",
   "name": "python",
   "nbconvert_exporter": "python",
   "pygments_lexer": "ipython3",
   "version": "3.9.13"
  },
  "orig_nbformat": 4,
  "vscode": {
   "interpreter": {
    "hash": "e60d0962a1d443f48657b4e9c2a0e446c274615817834c094896e00b19d6fad7"
   }
  }
 },
 "nbformat": 4,
 "nbformat_minor": 2
}
